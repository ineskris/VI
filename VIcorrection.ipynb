{
 "cells": [
  {
   "cell_type": "code",
   "execution_count": 185,
   "metadata": {},
   "outputs": [],
   "source": [
    "import numpy as np\n",
    "import torch\n",
    "from torch.autograd import Variable\n",
    "import matplotlib.pyplot as plt\n",
    "%matplotlib inline\n",
    "plt.style.use('ggplot')"
   ]
  },
  {
   "cell_type": "markdown",
   "metadata": {},
   "source": [
    "## Variationnal Inference"
   ]
  },
  {
   "cell_type": "markdown",
   "metadata": {},
   "source": [
    "<img src=\"VI.png\">"
   ]
  },
  {
   "cell_type": "markdown",
   "metadata": {},
   "source": [
    "We introduce a new approximation function  $q_\\phi(\\mathbf{z}\\vert\\mathbf{x})$, parameterized by $\\phi$  within a tractable parametric family such that $q(\\mathbf{z}\\vert\\mathbf{x})= q(\\mathbf{z}\\vert\\mathbf{x}, \\phi^{*})$ ;\n",
    "$\\phi^{*} = \\operatorname*{argmin}_\\phi KL(q(\\mathbf{z}\\vert\\mathbf{x}, \\phi) || p(\\mathbf{z}\\vert\\mathbf{x}) )$ and the evidence lower bound (**ELBO**) is defined by :\n"
   ]
  },
  {
   "cell_type": "markdown",
   "metadata": {},
   "source": [
    "\n",
    "\\begin{align*}\n",
    "\\mathcal{L} &= \\mathbb{E}_q\\big[ \\log{p(x,z)} - \\log{q_\\phi(z)} \\big] \\\\\n",
    "&= \\mathbb{E}_q\\big[ \\log{p(x|z)} \\big] - KL(q(z)||p(z)) \n",
    "\\end{align*}"
   ]
  },
  {
   "cell_type": "markdown",
   "metadata": {},
   "source": [
    "### Basic VI (CAVI)"
   ]
  },
  {
   "cell_type": "markdown",
   "metadata": {},
   "source": [
    "Mean-field variational family, where the latent variables are mutually independant :\n",
    "\n",
    "$$q(\\mathbf{z}) = \\prod_{j} q_j(z_j)$$"
   ]
  },
  {
   "cell_type": "markdown",
   "metadata": {},
   "source": [
    "##### Example"
   ]
  },
  {
   "cell_type": "markdown",
   "metadata": {},
   "source": [
    "See Gaussian Mixtures example. https://github.com/ineskris/VI/blob/master/VI-GaussianMixtures%20.ipynb"
   ]
  },
  {
   "cell_type": "markdown",
   "metadata": {},
   "source": [
    "### Black Box VI"
   ]
  },
  {
   "cell_type": "markdown",
   "metadata": {},
   "source": [
    "Idea = write the gradient of the ELBO as an expectation, compute MC estimates of it, and then use stochastic optimization with repeated MC gradients.\n",
    "\n",
    "https://arxiv.org/abs/1401.0118"
   ]
  },
  {
   "cell_type": "markdown",
   "metadata": {},
   "source": [
    "<img src=\"BBVI.png\">"
   ]
  },
  {
   "cell_type": "markdown",
   "metadata": {},
   "source": [
    "$$ \\nabla_{\\phi} \\mathcal{L} = \\mathbb{E}_{q_{\\phi}}\\big[ \\nabla_{\\phi}\\log{q( z, \\phi)} (\\log{p( z, x)}  - \\log{q( z, \\phi)})] $$"
   ]
  },
  {
   "cell_type": "markdown",
   "metadata": {},
   "source": [
    "https://www.cs.toronto.edu/~duvenaud/papers/blackbox.pdf"
   ]
  },
  {
   "cell_type": "markdown",
   "metadata": {},
   "source": [
    "#### Example  Logistic Regression"
   ]
  },
  {
   "cell_type": "markdown",
   "metadata": {},
   "source": [
    "$X \\in \\cal{R}^{n \\times p }$ with binary outputs $y_i \\in \\cal{R}^{n}$\n",
    "\n",
    "\\begin{align} p(\\mathbf{y_i} \\vert \\mathbf{z_i}, \\mathbf{x}) \\sim \\cal{B}(\\sigma(z'x_i)) \\end{align} where $\\sigma$ is the inverse logit function and z from p-dimensional multivariate normal with independent components."
   ]
  },
  {
   "cell_type": "markdown",
   "metadata": {},
   "source": [
    "We want : $$p(z\\vert X, y)$$"
   ]
  },
  {
   "cell_type": "markdown",
   "metadata": {},
   "source": [
    "We choose a variational distribution over z, (Mean field approximation): \n",
    "\n",
    "\n",
    "$$q(\\mathbf{z} \\vert \\phi) = \\prod_{j} q_j(z_j)$$ \n",
    "\n",
    "Here, we use :\n",
    "\n",
    "$$q(\\mathbf{z} \\vert \\phi) = \\prod_{j} \\cal{N}(z_j \\vert \\mu_{j} , \\sigma_{j}^{2} )$$ "
   ]
  },
  {
   "cell_type": "markdown",
   "metadata": {},
   "source": [
    "We model each $z_j$ as an independent Gaussian with mean $μ_{j}$ and $\\sigma_{j}^{2}$, and we use BBVI to learn the optimal values of $\\phi= (μ_{j}, \\sigma_{j}^{2})$"
   ]
  },
  {
   "cell_type": "markdown",
   "metadata": {},
   "source": [
    "#### Evaluate the score $\\nabla q(\\mathbf{z} \\vert \\phi) $"
   ]
  },
  {
   "cell_type": "markdown",
   "metadata": {},
   "source": [
    "$\\nabla_{ \\mu_{j}} \\log q(\\mathbf{z} \\vert \\phi) =\\nabla_{ \\mu_{i}} \\sum_i -\\dfrac{\\log{(2\\pi\\sigma_{i}^{2})}}{2}  -\\dfrac{(z_i-\\mu_i)^2}{2\\sigma_{i}^{2}} = \\dfrac{(z_j-\\mu_j)}{\\sigma_{j}^{2}}   $\n",
    "\n",
    "\n",
    "We use $ \\alpha_{j}= \\log (2 \\pi \\sigma_{j}^{2}) $\n",
    "\n",
    "\n",
    "$\\nabla_{\\alpha_{j}} \\log q(\\mathbf{z} \\vert \\phi) = \\nabla_{ \\alpha_{j}} \\sum_i-\\dfrac{\\alpha_{j}}{2}   -\\dfrac{(z_i-\\mu_i)^2 \\pi}{\\exp \\alpha_{j}} = -\n",
    "\\dfrac{1}{2} +  \\dfrac{(z_j-\\mu_j)^2}{2\\sigma_{j}^{2}}  $\n",
    "\n"
   ]
  },
  {
   "cell_type": "markdown",
   "metadata": {},
   "source": [
    "#### Evaluate joint distribution $\\log p(y, X, z) = \\log{p(y \\vert X, z)} + \\log p(z) $"
   ]
  },
  {
   "cell_type": "markdown",
   "metadata": {},
   "source": [
    "$\\log p(y, X, z) = \\sum_i [y_{i} \\log (\\sigma (z' x_{i})) + (1 - y_{i}) \\log (1 - \\sigma (z' x_{i})) + \\sum_i \\log \\psi(z_{j} \\vert 0,1)  $\n",
    "\n",
    "\n",
    "where \n",
    "\n",
    "$\\psi$ is the standard normal pdf.\\"
   ]
  },
  {
   "cell_type": "markdown",
   "metadata": {},
   "source": [
    "#### Evaluate $log q(\\mathbf{z} \\vert \\phi) =   \\sum_i \\psi(z_{i} \\vert \\mu_{i},  \\sigma_{i}^{2})  $"
   ]
  },
  {
   "cell_type": "markdown",
   "metadata": {},
   "source": [
    "#### Evaluate the learning rate $\\rho$"
   ]
  },
  {
   "cell_type": "markdown",
   "metadata": {},
   "source": [
    "http://www.jmlr.org/papers/volume12/duchi11a/duchi11a.pdf"
   ]
  },
  {
   "cell_type": "markdown",
   "metadata": {},
   "source": [
    "Let Gt be a matrix containing the sum across the first t iterations of the outer products of the gradient. AdaGrad defines a per component learning rate as\n",
    "$\\rho_t = η diag(Gt)^{-1/2}$\n"
   ]
  },
  {
   "cell_type": "markdown",
   "metadata": {},
   "source": [
    "### BBVI code"
   ]
  },
  {
   "cell_type": "markdown",
   "metadata": {},
   "source": [
    "#### With Python"
   ]
  },
  {
   "cell_type": "code",
   "execution_count": 186,
   "metadata": {},
   "outputs": [],
   "source": [
    "# Simulation\n",
    "from scipy.special import expit as sigmoid\n",
    "from scipy.stats import norm\n",
    "n = 100\n",
    "p = 4\n",
    "X = np.random.randn(n,p) #standard normal distribution\n",
    "z_real = np.random.randn(p)\n",
    "y = np.random.binomial(1,sigmoid(np.dot(X,z_real)),n)"
   ]
  },
  {
   "cell_type": "code",
   "execution_count": 187,
   "metadata": {},
   "outputs": [
    {
     "data": {
      "text/plain": [
       "(100,)"
      ]
     },
     "execution_count": 187,
     "metadata": {},
     "output_type": "execute_result"
    }
   ],
   "source": [
    "sigmoid(np.dot(X,z_real)).shape"
   ]
  },
  {
   "cell_type": "code",
   "execution_count": 188,
   "metadata": {},
   "outputs": [],
   "source": [
    "#Gradient_ELBO\n",
    "def elbo_grad(z_samp, mu, sigma):\n",
    "    grad_mu = (z_samp - mu)/(sigma)\n",
    "    grad_logsigma = -1/2+ (z_samp - mu)**2/(2*sigma)\n",
    "    \n",
    "    log_p = np.sum(y * np.log(sigmoid(np.dot(X,z_samp))) + (1-y) * np.log(1-sigmoid(np.dot(X,z_samp))))+ np.sum(norm.logpdf(z_samp, np.zeros(p), np.ones(p)))\n",
    "    log_q = np.sum(norm.logpdf(z_samp, mu, sigma))\n",
    "    \n",
    "    return np.concatenate([grad_mu,grad_logsigma])*(log_p - log_q) #len = 2xp for mu and sigma "
   ]
  },
  {
   "cell_type": "code",
   "execution_count": 189,
   "metadata": {},
   "outputs": [],
   "source": [
    "#BBVI\n",
    "n_iter = 1000\n",
    "samp_number = 30\n",
    "\n",
    "#initialization\n",
    "mu = np.random.randn(p)\n",
    "log_sigma = np.random.randn(p)\n",
    "mus = np.zeros((n_iter,p))\n",
    "eta = 0.1\n",
    "G = np.zeros((2*p,2*p))\n",
    "\n",
    "\n",
    "for t in np.arange(n_iter):\n",
    "    mus[t] = mu\n",
    "    sigma = np.exp(log_sigma)\n",
    "    \n",
    "    #sample from q \n",
    "    samples = np.array([np.random.normal(mu, np.sqrt(sigma)) for s in np.arange(samp_number)])\n",
    "    \n",
    "    #monte carlo estimator \n",
    "    grad_estimate = np.mean(np.array([elbo_grad(samp, mu, sigma) for samp in samples]),axis=0)\n",
    "   \n",
    "    #adagrad optimization \n",
    "    G =  G+np.outer(grad_estimate,grad_estimate) \n",
    " \n",
    "    #update \n",
    "    mu_new = mu + (eta * 1/np.sqrt(np.diag(G)))[:p] * grad_estimate[:p]\n",
    "    \n",
    "    log_sigma_new = log_sigma + (eta * 1/np.sqrt(np.diag(G)))[p:] * grad_estimate[p:]\n",
    "    \n",
    "    \n",
    "    if np.linalg.norm(mu_new-mu) < 0.001:\n",
    "        break\n",
    "    mu, log_sigma = mu_new, log_sigma_new\n",
    "    \n",
    "\n"
   ]
  },
  {
   "cell_type": "code",
   "execution_count": 190,
   "metadata": {},
   "outputs": [
    {
     "data": {
      "image/png": "[encoded data removed]",
      "text/plain": [
       "<Figure size 432x288 with 1 Axes>"
      ]
     },
     "metadata": {},
     "output_type": "display_data"
    }
   ],
   "source": [
    "x = np.linspace(-3, 3, 1000)\n",
    "plt.plot(x,norm.pdf(x, mu[0], np.sqrt(sigma[0])),\"blue\",label=\"Posterior\")\n",
    "plt.axvline(x=z_real[0],c=\"blue\",linestyle='dashed',linewidth=1,label=\"True Value\")\n",
    "plt.plot(x,norm.pdf(x, mu[1], np.sqrt(sigma[1])),c=\"orange\")\n",
    "plt.axvline(x=z_real[1],c=\"orange\",linestyle='dashed',linewidth=1)\n",
    "plt.plot(x,norm.pdf(x, mu[2], np.sqrt(sigma[2])),c=\"forestgreen\")\n",
    "plt.axvline(x=z_real[2],c=\"forestgreen\",linestyle='dashed')\n",
    "plt.plot(x,norm.pdf(x, mu[3], np.sqrt(sigma[3])),c=\"red\")\n",
    "plt.axvline(x=z_real[3],c=\"red\",linestyle='dashed')\n",
    "plt.ylabel(\"Density\")\n",
    "leg = plt.legend(loc=1)\n",
    "leg.legendHandles[0].set_color('black')\n",
    "leg.legendHandles[1].set_color('black')"
   ]
  },
  {
   "cell_type": "code",
   "execution_count": 191,
   "metadata": {},
   "outputs": [],
   "source": [
    "nb_iter = t"
   ]
  },
  {
   "cell_type": "code",
   "execution_count": 192,
   "metadata": {},
   "outputs": [
    {
     "data": {
      "image/png": "[encoded data removed]",
      "text/plain": [
       "<Figure size 432x288 with 1 Axes>"
      ]
     },
     "metadata": {},
     "output_type": "display_data"
    }
   ],
   "source": [
    "plt.plot(range(nb_iter +1),mus[:(t+1)])\n",
    "plt.xlabel(\"Iteration\")\n",
    "plt.ylabel(\"Mean $\\mu$\");"
   ]
  },
  {
   "cell_type": "raw",
   "metadata": {},
   "source": [
    "n_iter = 50\n",
    "p=4\n",
    "G = torch.zeros((2*p,2*p))\n",
    "eta = 0.1\n",
    "\n",
    "for t in np.arange(n_iter):\n",
    "    samples = torch.stack([bb.sample_q() for i in range(bb.nb_sample)]) \n",
    " \n",
    "    grad_estimate = torch.stack([bb.compute_grad_elbo(X,y, samp) for samp in samples]).mean(0)\n",
    "    grad_estimate = grad_estimate.view(8) \n",
    "    G =  G+torch.ger(grad_estimate,grad_estimate) \n",
    "    mu_new = bb.mu +  (eta * 1/torch.diag(G).sqrt())[:p] * grad_estimate[:p]\n",
    "    log_sigma_new = bb.log_sigma + (eta * 1/torch.diag(G).sqrt())[p:] * grad_estimate[p:]\n",
    "    \n",
    "    if torch.norm(mu_new-bb.mu) < 0.1:\n",
    "        break\n",
    "    bb.mu, bb.log_sigma = mu_new, log_sigma_new\n"
   ]
  },
  {
   "cell_type": "markdown",
   "metadata": {},
   "source": [
    "#### Using AdaGrad optimizer"
   ]
  },
  {
   "cell_type": "code",
   "execution_count": 323,
   "metadata": {},
   "outputs": [],
   "source": [
    "from torch.autograd import Variable\n",
    "import torch\n",
    "import torchvision\n",
    "from torch import nn\n",
    "from torch import optim\n",
    "import torch.nn.functional as F\n",
    "from torch.autograd import Variable\n",
    "from torch.distributions import *\n",
    "from torch.distributions.utils import probs_to_logits, logits_to_probs\n",
    "from torch.nn.functional import binary_cross_entropy_with_logits"
   ]
  },
  {
   "cell_type": "code",
   "execution_count": 378,
   "metadata": {},
   "outputs": [],
   "source": [
    "# Simulation\n",
    "from scipy.special import expit as sigmoid\n",
    "from scipy.stats import norm\n",
    "n = 1000\n",
    "p = 4\n",
    "X = np.random.randn(n,p) #standard normal distribution\n",
    "z_real =  np.array([-1, 3,  -3, -2])\n",
    "y = np.random.binomial(1,sigmoid(np.dot(X,z_real)),n)"
   ]
  },
  {
   "cell_type": "code",
   "execution_count": 379,
   "metadata": {},
   "outputs": [
    {
     "data": {
      "text/plain": [
       "array([-1,  3, -3, -2])"
      ]
     },
     "execution_count": 379,
     "metadata": {},
     "output_type": "execute_result"
    }
   ],
   "source": [
    "z_real"
   ]
  },
  {
   "cell_type": "raw",
   "metadata": {},
   "source": [
    "# correct function from log_Prob from Pytorch \n",
    "import math\n",
    "def log_norm(std, mu, value):\n",
    "    var = (std ** 2)\n",
    "    log_scale = math.log(std) \n",
    "    return -((value - mu) ** 2) / (2 * var) - log_scale - math.log(math.sqrt(2 * math.pi))"
   ]
  },
  {
   "cell_type": "raw",
   "metadata": {},
   "source": [
    "#kl divergence for 2 normal distributions\n",
    "@register_kl(Normal, Normal)\n",
    "def _kl_normal_normal(p, q):\n",
    "    var_ratio = (p.scale / q.scale).pow(2)\n",
    "    t1 = ((p.loc - q.loc) / q.scale).pow(2)\n",
    "    return 0.5 * (var_ratio + t1 - 1 - var_ratio.log())"
   ]
  },
  {
   "cell_type": "code",
   "execution_count": 385,
   "metadata": {},
   "outputs": [],
   "source": [
    "class bbvi(torch.nn.Module):\n",
    "    '''\n",
    "    X : Tensor nxp given\n",
    "    y : Tensor n given\n",
    "    z : Tensor s x p (s=number of sample , z~q(z|y,x) distribution)\n",
    "    \n",
    "    '''\n",
    "    def __init__(self, p=4, s=30):\n",
    "        self.p = p\n",
    "        self.s = s\n",
    "\n",
    "        super(bbvi, self).__init__()\n",
    "        # mu and sigma of q distrib\n",
    "        self.mu = torch.nn.Parameter(torch.randn(1,p), requires_grad=True)\n",
    "        self.logsigma = torch.nn.Parameter(torch.randn(1,p), requires_grad=True)\n",
    "        \n",
    "        self.sigmoid = torch.nn.Sigmoid()\n",
    "        \n",
    "        #prior\n",
    "        self.prior_m = Variable(torch.zeros(1,p), requires_grad=False)\n",
    "        self.prior_log_sigma = Variable(torch.ones(1,p), requires_grad=False)\n",
    "        \n",
    "\n",
    "        \n",
    "    def gen_sample(self):\n",
    "        return(torch.randn(self.s,p))\n",
    "    \n",
    "    def reparam(self, eps):\n",
    "        eps = Variable(torch.FloatTensor(eps))\n",
    "        sigma = self.logsigma.exp()\n",
    "        return  eps.mul(sigma).add(self.mu)\n",
    "    \n",
    "    def compute_elbo(self, X, y ):\n",
    "        eps = self.gen_sample()\n",
    "        z = self.reparam(eps) \n",
    "  \n",
    "        sigma = self.logsigma.exp()\n",
    "        prior_sigma =self.prior_log_sigma.exp()\n",
    "\n",
    "\n",
    "        #q_log_likelihood = Normal(self.mu,sigma).log_prob(z).sum(0).mean()\n",
    "        q_log_likelihood = torch.mean(log_norm(z, self.mu, sigma))\n",
    "\n",
    "        #log_prior = Normal(self.prior_m, prior_sigma).log_prob(z).sum(0).mean()\n",
    "        log_prior = torch.mean(log_norm(z, self.prior_m, self.prior_log_sigma))\n",
    "        kld = q_log_likelihood - log_prior\n",
    "\n",
    "        \n",
    "        mult = torch.matmul(X,z.transpose(0,1)) #return a vector nxs \n",
    "        multmean = mult.mean(1) #return a vector nx1\n",
    "        sigmoid = self.sigmoid(multmean) #return a vector nx1\n",
    "        \n",
    "        \n",
    "        loglike = - binary_cross_entropy_with_logits(sigmoid, y, reduction ='sum').mean()\n",
    "                                                                            \n",
    "      \n",
    "        elbo = loglike - kld\n",
    "        \n",
    "        return elbo\n",
    "    \n",
    "\n",
    "   "
   ]
  },
  {
   "cell_type": "raw",
   "metadata": {},
   "source": [
    "m = nn.Sigmoid()\n",
    "input = torch.tensor([  0.2], requires_grad=True)\n",
    "target = torch.tensor([ 0.8], requires_grad=True)\n",
    "binary_cross_entropy_with_logits(input, target) #do the sigmoid too"
   ]
  },
  {
   "cell_type": "code",
   "execution_count": 386,
   "metadata": {},
   "outputs": [],
   "source": [
    "bb = bbvi()\n",
    "optimizer = torch.optim.Adagrad(bb.parameters(),lr=0.2) #lr = learning rate lr \n",
    "\n",
    "# input as Tensor\n",
    "X =  Variable(torch.Tensor(X), requires_grad=False) \n",
    "y = Variable(torch.Tensor(y), requires_grad=False)\n",
    "\n",
    "for i in range(1000):\n",
    "    loss = -bb.compute_elbo(X, y)\n",
    "    # clear out the gradients of all Variables in this optimizer (i.e. W, b)\n",
    "    optimizer.zero_grad()\n",
    "    loss.backward(retain_graph=True)\n",
    "    # compute dloss/dx for mu and sigma \n",
    "    optimizer.step()\n",
    "    # update the parameters\n",
    "    \n",
    "#     if i % 400 ==0:\n",
    "#         print(bb.mu.data.numpy())\n",
    "#         print(loss)"
   ]
  },
  {
   "cell_type": "code",
   "execution_count": 387,
   "metadata": {},
   "outputs": [
    {
     "data": {
      "text/plain": [
       "array([[-1.0938911,  3.9497168, -3.8089225, -2.929642 ]], dtype=float32)"
      ]
     },
     "execution_count": 387,
     "metadata": {},
     "output_type": "execute_result"
    }
   ],
   "source": [
    "mu = bb.mu.data.numpy()\n",
    "mu"
   ]
  },
  {
   "cell_type": "code",
   "execution_count": 388,
   "metadata": {},
   "outputs": [
    {
     "data": {
      "text/plain": [
       "0.71310276"
      ]
     },
     "execution_count": 388,
     "metadata": {},
     "output_type": "execute_result"
    }
   ],
   "source": [
    "sigma = bb.logsigma.exp().data.numpy()\n",
    "sigma[0][0]"
   ]
  },
  {
   "cell_type": "code",
   "execution_count": 389,
   "metadata": {},
   "outputs": [
    {
     "data": {
      "image/png": "[encoded data removed]",
      "text/plain": [
       "<Figure size 432x288 with 1 Axes>"
      ]
     },
     "metadata": {},
     "output_type": "display_data"
    }
   ],
   "source": [
    "x = np.linspace(-5, 5, 1000)\n",
    "plt.plot(x,norm.pdf(x, mu[0][0], np.sqrt(sigma[0][0])),\"blue\",label=\"Posterior\")\n",
    "plt.axvline(x=z_real[0],c=\"blue\",linestyle='dashed',linewidth=1,label=\"True Value\")\n",
    "plt.plot(x,norm.pdf(x, mu[0][1], np.sqrt(sigma[0][1])),c=\"orange\")\n",
    "plt.axvline(x=z_real[1],c=\"orange\",linestyle='dashed',linewidth=1)\n",
    "plt.plot(x,norm.pdf(x, mu[0][2], np.sqrt(sigma[0][2])),c=\"forestgreen\")\n",
    "plt.axvline(x=z_real[2],c=\"forestgreen\",linestyle='dashed')\n",
    "plt.plot(x,norm.pdf(x, mu[0][3], np.sqrt(sigma[0][3])),c=\"red\")\n",
    "plt.axvline(x=z_real[3],c=\"red\",linestyle='dashed')\n",
    "plt.ylabel(\"Density\")\n",
    "leg = plt.legend(loc=1)\n",
    "leg.legendHandles[0].set_color('black')\n",
    "leg.legendHandles[1].set_color('black')"
   ]
  },
  {
   "cell_type": "code",
   "execution_count": null,
   "metadata": {},
   "outputs": [],
   "source": []
  },
  {
   "cell_type": "code",
   "execution_count": null,
   "metadata": {},
   "outputs": [],
   "source": []
  },
  {
   "cell_type": "code",
   "execution_count": null,
   "metadata": {},
   "outputs": [],
   "source": []
  }
 ],
 "metadata": {
  "kernelspec": {
   "display_name": "Python 3",
   "language": "python",
   "name": "python3"
  },
  "language_info": {
   "codemirror_mode": {
    "name": "ipython",
    "version": 3
   },
   "file_extension": ".py",
   "mimetype": "text/x-python",
   "name": "python",
   "nbconvert_exporter": "python",
   "pygments_lexer": "ipython3",
   "version": "3.7.3"
  }
 },
 "nbformat": 4,
 "nbformat_minor": 2
}
