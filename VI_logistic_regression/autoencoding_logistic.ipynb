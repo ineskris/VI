{
 "cells": [
  {
   "cell_type": "code",
   "execution_count": 15,
   "metadata": {},
   "outputs": [],
   "source": [
    "import torch\n",
    "from torch import nn as nn\n",
    "from torch.autograd import Variable\n",
    "from torch import optim as optim\n",
    "from torch.nn import functional as F\n",
    "\n",
    "import numpy as np\n",
    "\n",
    "import sys\n",
    "\n",
    "%matplotlib inline\n",
    "from matplotlib import pyplot as plt\n",
    "plt.style.use(\"ggplot\")"
   ]
  },
  {
   "cell_type": "code",
   "execution_count": 2,
   "metadata": {},
   "outputs": [],
   "source": [
    "# # Simulation\n",
    "# from scipy.special import expit as sigmoid\n",
    "# from scipy.stats import norm\n",
    "# n = 1000\n",
    "# p = 1\n",
    "# X = np.random.randn(n,p) #standard normal distribution\n",
    "# z_real =  np.array([-2])\n",
    "# y = np.random.binomial(1,sigmoid(np.dot(X,z_real)))\n",
    "\n",
    "\n",
    "# #lets take p =1 t0 make it simple. "
   ]
  },
  {
   "cell_type": "markdown",
   "metadata": {},
   "source": [
    "$$\n",
    "    z \\sim \\mathcal{N}(0,\\mathbf{I}_p)\n",
    "$$\n",
    "$$\n",
    "    \\mathbf{x}_k \\sim \\mathcal{N}(0,\\mathbf{I}_p) \\qquad\\mathrm{[fixed(?)]}\n",
    "$$\n",
    "$$\n",
    "    y_k\\,|\\,z,\\mathbf{x}_k \\sim \\pi(\\Phi(z\\cdot\\mathbf{x}_k))\n",
    "$$"
   ]
  },
  {
   "cell_type": "code",
   "execution_count": 3,
   "metadata": {},
   "outputs": [],
   "source": [
    "n = 1000 # num. samples\n",
    "p = 2    # dimension of z"
   ]
  },
  {
   "cell_type": "code",
   "execution_count": 4,
   "metadata": {},
   "outputs": [],
   "source": [
    "X = torch.randn((n,p))\n",
    "z_true = torch.randn((p,1))\n",
    "\n",
    "p_y = lambda z,x: torch.distributions.Binomial(\n",
    "    probs=torch.sigmoid((x @ z).mean(1))\n",
    ")\n",
    "\n",
    "y = p_y(z_true, X).sample()"
   ]
  },
  {
   "cell_type": "code",
   "execution_count": 5,
   "metadata": {},
   "outputs": [
    {
     "data": {
      "text/plain": [
       "tensor([[0.6539],\n",
       "        [0.2839]])"
      ]
     },
     "execution_count": 5,
     "metadata": {},
     "output_type": "execute_result"
    }
   ],
   "source": [
    "z_true"
   ]
  },
  {
   "cell_type": "code",
   "execution_count": 6,
   "metadata": {
    "scrolled": false
   },
   "outputs": [
    {
     "data": {
      "text/plain": [
       "[<matplotlib.lines.Line2D at 0x29603170da0>]"
      ]
     },
     "execution_count": 6,
     "metadata": {},
     "output_type": "execute_result"
    },
    {
     "data": {
      "image/png": "[encoded data removed]",
      "text/plain": [
       "<Figure size 432x288 with 1 Axes>"
      ]
     },
     "metadata": {
      "needs_background": "light"
     },
     "output_type": "display_data"
    }
   ],
   "source": [
    "plt.plot(y,'.',alpha=0.1)"
   ]
  },
  {
   "cell_type": "code",
   "execution_count": 33,
   "metadata": {},
   "outputs": [],
   "source": [
    "class VAE(nn.Module):\n",
    "    '''\n",
    "    X : Tensor nxp given\n",
    "    y : Tensor n given\n",
    "    z : Tensor s x p (s=number of sample , z~q(z|y,x) distribution)\n",
    "    '''\n",
    "    def __init__(self, likelihood=None, encoder=None):\n",
    "        super(VAE, self).__init__()\n",
    "        \n",
    "#         self.mu       = nn.Parameter(\n",
    "#             torch.randn(p,1), requires_grad=True\n",
    "#         ) # THIS IS DEPENDENT ON Y: MU=ENCODER(Y), so not a parameter\n",
    "\n",
    "        self.logsigma = nn.Parameter(\n",
    "            torch.randn(p,1), requires_grad=True\n",
    "        )\n",
    "        \n",
    "        if likelihood is None:\n",
    "            self.likelihood = lambda z,x: torch.distributions.Binomial(\n",
    "                probs=torch.sigmoid(x @ z)\n",
    "            )\n",
    "        else:\n",
    "            self.likelihood\n",
    "            \n",
    "        self.encoder = self._encoder if encoder is None else encoder\n",
    "        \n",
    "        #prior\n",
    "        self.dim = p\n",
    "        self.prior_m  = Variable(\n",
    "            torch.zeros(p,1), requires_grad=False\n",
    "        )\n",
    "        self.prior_log_sigma = Variable(\n",
    "            torch.ones(p,1), requires_grad=False # should this be zero ?\n",
    "        )\n",
    "        \n",
    "    def _encoder(self, y):\n",
    "        ''' Default encoder '''\n",
    "        # There needs to be some form of parametric model for this otherwise there's nothing to optimise here\n",
    "        p  = y.mean() #estimator\n",
    "        mu = p.log()-(1-p).log()\n",
    "        \n",
    "        return mu\n",
    "    \n",
    "    def reparam(self, mu):\n",
    "        epsilon = torch.distributions.Normal(0,1).sample()\n",
    "        sigma   = torch.exp(self.logsigma) #self.logsigma.exp()\n",
    "        return eps*sigma + self.mu\n",
    "#         return  eps.mul(sigma).add(self.mu)\n",
    "    \n",
    "    \n",
    "    def decoder(self,z,X):\n",
    "        ''' white decoder: p(y|z,X) = Bern(Φ(z.x))'''\n",
    "        return self.likelihood(z, X).sample()\n",
    "    \n",
    "    def loss_function(self, q_log_likelihood ,log_prior, recon_y, y ):\n",
    "        ''' L = log p(y) - log q(y) - H[y',y]'''\n",
    "        KLD = q_log_likelihood - log_prior\n",
    "        BCE = F.binary_cross_entropy(recon_y, y, reduction ='sum')\n",
    "        return BCE + KLD\n",
    "    \n",
    "    def forward(self, y, X):\n",
    "        ''' Evaluate model\n",
    "        \n",
    "            μ = encoder(y)\n",
    "            z ~ N(μ, σ2) [= μ + ϵ.σ]\n",
    "            \n",
    "        '''\n",
    "        \n",
    "        self.mu     = self.encoder(y)\n",
    "        sigma       = self.logsigma.exp()\n",
    "        \n",
    "        prior_sigma = self.prior_log_sigma.exp()\n",
    "        \n",
    "        q_z         = torch.distributions.Normal(self.mu,sigma)\n",
    "        p_z         = torch.distributions.Normal(self.prior_m, prior_sigma)\n",
    "        \n",
    "        z = q_z.sample()\n",
    "    \n",
    "        \n",
    "        recon_y = self.decoder(z, X)\n",
    "        \n",
    "        loss = self.loss_function(\n",
    "            q_z.log_prob(z).sum(0).mean(),\n",
    "            p_z.log_prob(z).sum(0).mean(),\n",
    "            recon_y,\n",
    "            y\n",
    "        )\n",
    "        \n",
    "        return loss"
   ]
  },
  {
   "cell_type": "code",
   "execution_count": 34,
   "metadata": {
    "scrolled": false
   },
   "outputs": [
    {
     "name": "stderr",
     "output_type": "stream",
     "text": [
      "C:\\Users\\Wil_User\\Anaconda3\\envs\\pytorch\\lib\\site-packages\\ipykernel_launcher.py:56: UserWarning: Using a target size (torch.Size([1000])) that is different to the input size (torch.Size([1000, 1])) is deprecated. Please ensure they have the same size.\n"
     ]
    },
    {
     "name": "stdout",
     "output_type": "stream",
     "text": [
      "10000/1000 : loss=13182.21484 ; mu=[0.0680263] ; mse=   0.19493"
     ]
    }
   ],
   "source": [
    "model = VAE() # default encoder and likelihood\n",
    "optimizer = optim.Adagrad(model.parameters(), lr=0.01)\n",
    "\n",
    "err = lambda mu: ((mu - z_true)**2).mean()\n",
    "\n",
    "losses = []\n",
    "\n",
    "for i in range(10000):\n",
    "    loss = model(y, X)\n",
    "    optimizer.zero_grad()\n",
    "    loss.backward(retain_graph=True)\n",
    "    optimizer.step()\n",
    "#     if i % 200 ==0:\n",
    "    mu = model.mu.data\n",
    "    losses.append(loss.data.numpy())\n",
    "    sys.stdout.write('\\r%3d/10000 : loss=%10.5f ; mu=%s ; mse=%10.5f' % (i+1, loss.data.numpy(), str(mu.numpy().ravel()), err(mu).item()))\n",
    "    sys.stdout.flush()"
   ]
  },
  {
   "cell_type": "code",
   "execution_count": 32,
   "metadata": {},
   "outputs": [
    {
     "data": {
      "text/plain": [
       "[<matplotlib.lines.Line2D at 0x29603344f60>]"
      ]
     },
     "execution_count": 32,
     "metadata": {},
     "output_type": "execute_result"
    },
    {
     "data": {
      "image/png": "[encoded data removed]",
      "text/plain": [
       "<Figure size 432x288 with 1 Axes>"
      ]
     },
     "metadata": {},
     "output_type": "display_data"
    }
   ],
   "source": [
    "plt.plot(losses)"
   ]
  },
  {
   "cell_type": "code",
   "execution_count": null,
   "metadata": {},
   "outputs": [],
   "source": []
  }
 ],
 "metadata": {
  "kernelspec": {
   "display_name": "Python 3",
   "language": "python",
   "name": "python3"
  },
  "language_info": {
   "codemirror_mode": {
    "name": "ipython",
    "version": 3
   },
   "file_extension": ".py",
   "mimetype": "text/x-python",
   "name": "python",
   "nbconvert_exporter": "python",
   "pygments_lexer": "ipython3",
   "version": "3.6.9"
  }
 },
 "nbformat": 4,
 "nbformat_minor": 2
}
