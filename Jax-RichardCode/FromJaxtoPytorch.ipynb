{
 "cells": [
  {
   "cell_type": "markdown",
   "metadata": {},
   "source": [
    "## Simple linear Model in Pytorch \n",
    "\n",
    "\n",
    "Code Richard transformed in pytorch\n",
    "\n",
    "March 19, 2020"
   ]
  },
  {
   "cell_type": "markdown",
   "metadata": {},
   "source": [
    "$$y_i = ax_i + N(0,1) \\qquad a \\sim N(0, 100)$$"
   ]
  },
  {
   "cell_type": "markdown",
   "metadata": {},
   "source": [
    "The posterior is\n",
    "$$a \\sim N\\left( \\frac{\\sum x_i y_i}{\\frac{1}{100}+ \\sum x_i^2}, (\\frac{1}{100} +\\sum x_i^2)^{-1}\\right)$$\n",
    "\n",
    "\n",
    "\n",
    "We will use  Gaussian  distributions as the variational family \n",
    "$$q_\\phi(a) = N(\\mu, \\sigma^2)$$\n"
   ]
  },
  {
   "cell_type": "code",
   "execution_count": 1,
   "metadata": {},
   "outputs": [],
   "source": [
    "import scipy as sp\n",
    "import numpy as np\n",
    "import matplotlib as plt\n",
    "from torch.autograd import Variable\n",
    "import torch\n",
    "import torchvision\n",
    "from torch import nn\n",
    "import torch.nn.functional as F\n",
    "from torch.distributions import *\n",
    "from torch import optim as optim\n",
    "import pylab as plt"
   ]
  },
  {
   "cell_type": "code",
   "execution_count": 2,
   "metadata": {
    "scrolled": true
   },
   "outputs": [],
   "source": [
    "from scipy.stats import norm\n",
    "n = 100\n",
    "m = Normal(torch.tensor([0.0]), torch.tensor([1.0]))\n",
    "x = m.sample(sample_shape=torch.Size([n])) \n",
    "norm = m.sample(sample_shape=torch.Size([n])) \n",
    "y = torch.mul(x, torch.Tensor([2])) +norm"
   ]
  },
  {
   "cell_type": "code",
   "execution_count": 3,
   "metadata": {
    "scrolled": true
   },
   "outputs": [
    {
     "data": {
      "image/png": "[encoded data removed]",
      "text/plain": [
       "<Figure size 432x288 with 1 Axes>"
      ]
     },
     "metadata": {
      "needs_background": "light"
     },
     "output_type": "display_data"
    }
   ],
   "source": [
    "plt.plot(x,y, '+');\n",
    "ts = np.linspace(-3,2,100)\n",
    "xs = 2*ts \n",
    "plt.plot(ts,xs);"
   ]
  },
  {
   "cell_type": "code",
   "execution_count": 4,
   "metadata": {},
   "outputs": [
    {
     "data": {
      "text/plain": [
       "tensor(1.9750)"
      ]
     },
     "execution_count": 4,
     "metadata": {},
     "output_type": "execute_result"
    }
   ],
   "source": [
    "mu_posterior=torch.sum(torch.mul(x,y))/(1./100+torch.sum(torch.pow(x,2)))\n",
    "sigma2_posterior = 1./(1./100+torch.sum(torch.pow(x,2)))\n",
    "mu_posterior"
   ]
  },
  {
   "cell_type": "code",
   "execution_count": 5,
   "metadata": {},
   "outputs": [
    {
     "data": {
      "text/plain": [
       "tensor(0.0099)"
      ]
     },
     "execution_count": 5,
     "metadata": {},
     "output_type": "execute_result"
    }
   ],
   "source": [
    "sigma2_posterior"
   ]
  },
  {
   "cell_type": "markdown",
   "metadata": {},
   "source": [
    "## Variational Inference"
   ]
  },
  {
   "cell_type": "code",
   "execution_count": 6,
   "metadata": {},
   "outputs": [],
   "source": [
    "def KL(mu, sigma2):\n",
    "    return(-0.5* torch.log(sigma2)+(sigma2+torch.pow(mu, 2)/200.))\n",
    "\n",
    "def Eloglike(mu, sigma2): \n",
    "    return(-0.5*torch.sum(torch.pow(y-torch.mul(mu,x),2))-0.5*sigma2*torch.sum(torch.pow(x,2)))\n",
    "\n",
    "def elbo(mu, logvar):\n",
    "    sigma2=torch.exp(logvar)\n",
    "    ELBO = Eloglike(mu, sigma2)-KL(mu, sigma2)\n",
    "    return(ELBO)\n",
    "\n",
    "def loss(mu, logvar):\n",
    "    return (-1* elbo(mu, logvar))"
   ]
  },
  {
   "cell_type": "raw",
   "metadata": {},
   "source": [
    "#compute derivatives by hand \n",
    "mu = torch.nn.Parameter(torch.Tensor([1.0]),requires_grad=True)\n",
    "logvar = torch.nn.Parameter(torch.log(torch.Tensor([2])),requires_grad=True)\n",
    "sigma2 = torch.exp(logvar)\n",
    "Eloglike = (-0.5*torch.sum(torch.pow(y-torch.mul(mu,x),2))-0.5*sigma2*torch.sum(torch.pow(x,2))) \n",
    "kl = -0.5* torch.log(sigma2)+(sigma2+torch.pow(mu, 2)/200.)\n",
    "elbo = Eloglike- kl\n",
    "loss = -1* elbo\n",
    "\n",
    "for i in range(100):\n",
    "    loss.backward(retain_graph=True)\n",
    "    print(mu.grad)\n",
    "    print(logvar.grad)"
   ]
  },
  {
   "cell_type": "code",
   "execution_count": 7,
   "metadata": {},
   "outputs": [],
   "source": [
    "def KL(mu, sigma2):\n",
    "    return(-0.5* torch.log(sigma2)+(sigma2+torch.pow(mu, 2)/200.))\n",
    "\n",
    "def Eloglike(mu, sigma2): \n",
    "    return(-0.5*torch.sum(torch.pow(y-torch.mul(mu,x),2))-0.5*sigma2*torch.sum(torch.pow(x,2)))\n",
    "\n",
    "def elbo(mu, logvar):\n",
    "    sigma2=torch.exp(logvar)\n",
    "    ELBO = Eloglike(mu, sigma2)-KL(mu, sigma2)\n",
    "    return(ELBO)\n",
    "\n",
    "def loss(mu, logvar):\n",
    "    return (-1* elbo(mu, logvar))\n"
   ]
  },
  {
   "cell_type": "code",
   "execution_count": 17,
   "metadata": {},
   "outputs": [
    {
     "data": {
      "text/plain": [
       "tensor([-200.5616], grad_fn=<SubBackward0>)"
      ]
     },
     "execution_count": 17,
     "metadata": {},
     "output_type": "execute_result"
    }
   ],
   "source": [
    "mu = torch.nn.Parameter(torch.Tensor([1.0]),requires_grad=True)\n",
    "logvar = torch.nn.Parameter(torch.log(torch.Tensor([2])),requires_grad=True)\n",
    "elbo(mu, logvar)"
   ]
  },
  {
   "cell_type": "code",
   "execution_count": 18,
   "metadata": {},
   "outputs": [],
   "source": [
    "class VI(nn.Module):\n",
    "    def __init__(self):\n",
    "        super().__init__()\n",
    "        self.qmu = torch.nn.Parameter(torch.Tensor([1.0]), requires_grad=True)\n",
    "        self.qlogvar = torch.nn.Parameter(torch.log(torch.Tensor([2])), requires_grad=True)\n",
    "\n",
    "    def KL(mu, sigma2):\n",
    "        return(-0.5* torch.log(sigma2)+(sigma2+torch.pow(mu, 2)/200.))\n",
    "\n",
    "    def Eloglike(mu, sigma2): \n",
    "        return(-0.5*torch.sum(torch.pow(y-torch.mul(mu,x),2))-0.5*sigma2*torch.sum(torch.pow(x,2)))\n",
    "\n",
    "    def elbo(mu, logvar):\n",
    "        sigma2=torch.exp(logvar)\n",
    "        ELBO = Eloglike(mu, sigma2)-KL(mu, sigma2)\n",
    "        return(ELBO)\n",
    "\n",
    "    def forward(self, x, y):\n",
    "        mu = self.qmu\n",
    "        logvar = self.qlogvar\n",
    "        loss = -1* elbo(mu, logvar)\n",
    "        return loss\n",
    "    \n",
    "    \n",
    "    "
   ]
  },
  {
   "cell_type": "markdown",
   "metadata": {},
   "source": [
    "https://ruder.io/optimizing-gradient-descent/index.html"
   ]
  },
  {
   "cell_type": "markdown",
   "metadata": {},
   "source": [
    "#### Stochastic Gradient Descent - SGD"
   ]
  },
  {
   "cell_type": "markdown",
   "metadata": {},
   "source": [
    "http://www.cs.toronto.edu/~hinton/absps/momentum.pdf"
   ]
  },
  {
   "cell_type": "code",
   "execution_count": 93,
   "metadata": {},
   "outputs": [],
   "source": [
    "vi = VI()\n",
    "optim = torch.optim.SGD(vi.parameters(), lr=0.01)\n",
    "\n",
    "for epoch in range(200):\n",
    "    optim.zero_grad()\n",
    "    loss = vi(x,y)\n",
    "    loss.backward(retain_graph=True)\n",
    "    optim.step()"
   ]
  },
  {
   "cell_type": "code",
   "execution_count": 92,
   "metadata": {},
   "outputs": [
    {
     "name": "stdout",
     "output_type": "stream",
     "text": [
      "True values tensor(1.9750) tensor(0.0099)\n",
      "Optimized values= Parameter containing:\n",
      "tensor([1.9750], requires_grad=True) tensor([0.0240], grad_fn=<ExpBackward>)\n"
     ]
    }
   ],
   "source": [
    "print('True values', mu_posterior, sigma2_posterior)\n",
    "print('Optimized values=',vi.qmu, torch.exp(vi.qlogvar))"
   ]
  },
  {
   "cell_type": "markdown",
   "metadata": {},
   "source": [
    "#### AdaGrad "
   ]
  },
  {
   "cell_type": "markdown",
   "metadata": {},
   "source": [
    "http://jmlr.org/papers/v12/duchi11a.html"
   ]
  },
  {
   "cell_type": "code",
   "execution_count": 80,
   "metadata": {},
   "outputs": [],
   "source": [
    "vi = VI()\n",
    "optim = torch.optim.Adagrad(vi.parameters(), lr=0.06)\n",
    "\n",
    "for epoch in range(1000):\n",
    "    optim.zero_grad()\n",
    "    loss = vi(x,y)\n",
    "    loss.backward(retain_graph=True)\n",
    "    optim.step()"
   ]
  },
  {
   "cell_type": "code",
   "execution_count": 81,
   "metadata": {},
   "outputs": [
    {
     "name": "stdout",
     "output_type": "stream",
     "text": [
      "True values tensor(1.9750) tensor(0.0099)\n",
      "Optimized values= Parameter containing:\n",
      "tensor([1.9750], requires_grad=True) tensor([0.2078], grad_fn=<ExpBackward>)\n"
     ]
    }
   ],
   "source": [
    "print('True values', mu_posterior, sigma2_posterior)\n",
    "print('Optimized values=',vi.qmu, torch.exp(vi.qlogvar))"
   ]
  },
  {
   "cell_type": "markdown",
   "metadata": {},
   "source": [
    "#### Adaptive Moment Estimation - ADAM"
   ]
  },
  {
   "cell_type": "markdown",
   "metadata": {},
   "source": [
    "https://arxiv.org/abs/1412.6980"
   ]
  },
  {
   "cell_type": "code",
   "execution_count": 31,
   "metadata": {},
   "outputs": [],
   "source": [
    "vi = VI()\n",
    "optim = torch.optim.Adam(vi.parameters(), lr=0.005)\n",
    "\n",
    "for epoch in range(700):\n",
    "    optim.zero_grad()\n",
    "    loss = vi(x,y)\n",
    "    loss.backward(retain_graph=True)\n",
    "    optim.step()"
   ]
  },
  {
   "cell_type": "code",
   "execution_count": 32,
   "metadata": {},
   "outputs": [
    {
     "name": "stdout",
     "output_type": "stream",
     "text": [
      "True values tensor(1.9750) tensor(0.0099)\n",
      "Optimized values= Parameter containing:\n",
      "tensor([1.9750], requires_grad=True) tensor([0.2667], grad_fn=<ExpBackward>)\n"
     ]
    }
   ],
   "source": [
    "print('True values', mu_posterior, sigma2_posterior)\n",
    "print('Optimized values=',vi.qmu, torch.exp(vi.qlogvar))"
   ]
  },
  {
   "cell_type": "markdown",
   "metadata": {},
   "source": [
    "#### AdaDelta "
   ]
  },
  {
   "cell_type": "markdown",
   "metadata": {},
   "source": [
    "https://arxiv.org/abs/1212.5701"
   ]
  },
  {
   "cell_type": "code",
   "execution_count": 50,
   "metadata": {},
   "outputs": [],
   "source": [
    "vi = VI()\n",
    "optim = torch.optim.Adadelta(vi.parameters(), lr=0.05)\n",
    "\n",
    "for epoch in range(700):\n",
    "    optim.zero_grad()\n",
    "    loss = vi(x,y)\n",
    "    loss.backward(retain_graph=True)\n",
    "    optim.step()"
   ]
  },
  {
   "cell_type": "code",
   "execution_count": 51,
   "metadata": {},
   "outputs": [
    {
     "name": "stdout",
     "output_type": "stream",
     "text": [
      "True values tensor(1.9750) tensor(0.0099)\n",
      "Optimized values= Parameter containing:\n",
      "tensor([1.2167], requires_grad=True) tensor([1.6077], grad_fn=<ExpBackward>)\n"
     ]
    }
   ],
   "source": [
    "print('True values', mu_posterior, sigma2_posterior)\n",
    "print('Optimized values=',vi.qmu, torch.exp(vi.qlogvar))"
   ]
  },
  {
   "cell_type": "markdown",
   "metadata": {},
   "source": [
    "SGD seems to be the best, less iterations,more accurate..."
   ]
  },
  {
   "cell_type": "markdown",
   "metadata": {},
   "source": [
    "## VAE"
   ]
  },
  {
   "cell_type": "code",
   "execution_count": 176,
   "metadata": {},
   "outputs": [],
   "source": [
    "class VAE(nn.Module):\n",
    "    def __init__(self, x, y):\n",
    "        '''p : number of parameters in the ODE solver, int (for now)\n",
    "   \n",
    "        '''\n",
    "        super(VAE,self).__init__()\n",
    "        self.x=x\n",
    "        self.y=y\n",
    "        self.qmu = torch.nn.Parameter(torch.Tensor([1.0]), requires_grad=True)\n",
    "        self.qlogvar = torch.nn.Parameter(torch.log(torch.Tensor([2])), requires_grad=True)\n",
    "    \n",
    "        \n",
    "    def encoder(self, V):\n",
    "        '''Encoder using a gaussian distribution with parameters mu and logvar'''\n",
    "        mu = self.qmu\n",
    "        logvar = self.qlogvar\n",
    "        return mu, logvar\n",
    "        \n",
    "    def reparam(self, mu, logvar):\n",
    "        '''Reparametrization trick'''\n",
    "        std = torch.exp(0.5*logvar) \n",
    "        eps = torch.randn_like(std)\n",
    "        return mu + eps*std\n",
    "    \n",
    "    def decoder(self, a):\n",
    "        '''Decoder '''\n",
    "        return (self.x*a)\n",
    "    \n",
    "    def Eloglike(self, a): \n",
    "        return(-0.5*torch.sum(torch.pow((self.y-self.decoder(a)),2)))\n",
    "\n",
    "    def KL(self,mu, logvar):\n",
    "        return (-0.5* logvar+(torch.exp(logvar)+torch.pow(mu, 2))/200.)\n",
    "    \n",
    "    \n",
    "    def elbo(self, a, mu, logvar):\n",
    "        elbo = self.Eloglike(a)-self.KL(mu, logvar)\n",
    "        return(elbo)\n",
    "\n",
    "\n",
    "    def forward(self):\n",
    "        mu, logvar = self.encoder(self.x)\n",
    "        a = self.reparam(mu, logvar)\n",
    "        loss = -self.elbo(a, mu, logvar)\n",
    "        print(loss)\n",
    " \n",
    "        return loss"
   ]
  },
  {
   "cell_type": "code",
   "execution_count": 177,
   "metadata": {},
   "outputs": [],
   "source": [
    "model = VAE(x,y)"
   ]
  },
  {
   "cell_type": "code",
   "execution_count": 178,
   "metadata": {},
   "outputs": [
    {
     "name": "stdout",
     "output_type": "stream",
     "text": [
      "tensor([156.4964], grad_fn=<NegBackward>)\n",
      "tensor([9072.2021], grad_fn=<NegBackward>)\n",
      "tensor([7.4122e+09], grad_fn=<NegBackward>)\n",
      "tensor([7.5443e+11], grad_fn=<NegBackward>)\n",
      "tensor([6.2128e+13], grad_fn=<NegBackward>)\n",
      "tensor([5.1187e+15], grad_fn=<NegBackward>)\n",
      "tensor([4.2173e+17], grad_fn=<NegBackward>)\n",
      "tensor([3.4746e+19], grad_fn=<NegBackward>)\n",
      "tensor([2.8628e+21], grad_fn=<NegBackward>)\n",
      "tensor([2.3586e+23], grad_fn=<NegBackward>)\n"
     ]
    }
   ],
   "source": [
    "optimizer = torch.optim.SGD(model.parameters(), lr=0.1)\n",
    "\n",
    "n_iter = 10\n",
    "for i in range(n_iter):\n",
    "    loss = model()\n",
    "  \n",
    "    optimizer.zero_grad()\n",
    "    loss.backward(retain_graph=True)\n",
    "    optimizer.step()\n",
    "  \n",
    "    \n"
   ]
  },
  {
   "cell_type": "code",
   "execution_count": 179,
   "metadata": {},
   "outputs": [
    {
     "data": {
      "text/plain": [
       "Parameter containing:\n",
       "tensor([-7.4862e+08], requires_grad=True)"
      ]
     },
     "execution_count": 179,
     "metadata": {},
     "output_type": "execute_result"
    }
   ],
   "source": [
    "model.qmu\n",
    "model.qlogvar"
   ]
  },
  {
   "cell_type": "code",
   "execution_count": null,
   "metadata": {},
   "outputs": [],
   "source": []
  }
 ],
 "metadata": {
  "kernelspec": {
   "display_name": "Python 3",
   "language": "python",
   "name": "python3"
  },
  "language_info": {
   "codemirror_mode": {
    "name": "ipython",
    "version": 3
   },
   "file_extension": ".py",
   "mimetype": "text/x-python",
   "name": "python",
   "nbconvert_exporter": "python",
   "pygments_lexer": "ipython3",
   "version": "3.7.3"
  }
 },
 "nbformat": 4,
 "nbformat_minor": 2
}
